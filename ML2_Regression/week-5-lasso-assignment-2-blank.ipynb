{
 "cells": [
  {
   "cell_type": "markdown",
   "metadata": {},
   "source": [
    "# Regression Week 5: LASSO (coordinate descent)"
   ]
  },
  {
   "cell_type": "markdown",
   "metadata": {},
   "source": [
    "In this notebook, you will implement your very own LASSO solver via coordinate descent. You will:\n",
    "* Write a function to normalize features\n",
    "* Implement coordinate descent for LASSO\n",
    "* Explore effects of L1 penalty"
   ]
  },
  {
   "cell_type": "markdown",
   "metadata": {},
   "source": [
    "# Fire up graphlab create"
   ]
  },
  {
   "cell_type": "markdown",
   "metadata": {},
   "source": [
    "Make sure you have the latest version of graphlab (>= 1.7)"
   ]
  },
  {
   "cell_type": "code",
   "execution_count": 1,
   "metadata": {
    "collapsed": false
   },
   "outputs": [],
   "source": [
    "import graphlab"
   ]
  },
  {
   "cell_type": "markdown",
   "metadata": {},
   "source": [
    "# Load in house sales data\n",
    "\n",
    "Dataset is from house sales in King County, the region where the city of Seattle, WA is located."
   ]
  },
  {
   "cell_type": "code",
   "execution_count": 2,
   "metadata": {
    "collapsed": false
   },
   "outputs": [
    {
     "name": "stderr",
     "output_type": "stream",
     "text": [
      "[INFO] \u001b[1;32m1451599287 : INFO:     (initialize_globals_from_environment:282): Setting configuration variable GRAPHLAB_FILEIO_ALTERNATIVE_SSL_CERT_FILE to /Users/zephaniahgrunschlag/.graphlab/anaconda/lib/python2.7/site-packages/certifi/cacert.pem\n",
      "\u001b[0m\u001b[1;32m1451599287 : INFO:     (initialize_globals_from_environment:282): Setting configuration variable GRAPHLAB_FILEIO_ALTERNATIVE_SSL_CERT_DIR to \n",
      "\u001b[0mThis non-commercial license of GraphLab Create is assigned to zg33@columbia.edu and will expire on October 15, 2016. For commercial licensing options, visit https://dato.com/buy/.\n",
      "\n",
      "[INFO] Start server at: ipc:///tmp/graphlab_server-10544 - Server binary: /Users/zephaniahgrunschlag/.graphlab/anaconda/lib/python2.7/site-packages/graphlab/unity_server - Server log: /tmp/graphlab_server_1451599287.log\n",
      "[INFO] GraphLab Server Version: 1.7.1\n"
     ]
    }
   ],
   "source": [
    "sales = graphlab.SFrame('kc_house_data.gl/')\n",
    "# In the dataset, 'floors' was defined with type string, \n",
    "# so we'll convert them to int, before using it below\n",
    "sales['floors'] = sales['floors'].astype(int) "
   ]
  },
  {
   "cell_type": "markdown",
   "metadata": {},
   "source": [
    "If we want to do any \"feature engineering\" like creating new features or adjusting existing ones we should do this directly using the SFrames as seen in the first notebook of Week 2. For this notebook, however, we will work with the existing features."
   ]
  },
  {
   "cell_type": "markdown",
   "metadata": {},
   "source": [
    "# Import useful functions from previous notebook"
   ]
  },
  {
   "cell_type": "markdown",
   "metadata": {},
   "source": [
    "As in Week 2, we convert the SFrame into a 2D Numpy array. Copy and paste `get_numpy_data()` from the second notebook of Week 2."
   ]
  },
  {
   "cell_type": "code",
   "execution_count": 4,
   "metadata": {
    "collapsed": true
   },
   "outputs": [],
   "source": [
    "import numpy as np # note this allows us to refer to numpy as np instead "
   ]
  },
  {
   "cell_type": "code",
   "execution_count": 5,
   "metadata": {
    "collapsed": true
   },
   "outputs": [],
   "source": [
    "def get_numpy_data(data_sframe, features, output):\n",
    "    data_sframe['constant'] = 1 # this is how you add a constant column to an SFrame\n",
    "    \n",
    "    # add the column 'constant' to the front of the features list so that we can extract it along with the others:\n",
    "    features = ['constant'] + features # this is how you combine two lists\n",
    "    \n",
    "    # select the columns of data_SFrame given by the features list \n",
    "    # into the SFrame features_sframe (now including constant):\n",
    "    features_sframe = data_sframe[features]\n",
    "\n",
    "    # the following line will convert the features_SFrame into a numpy matrix:\n",
    "    feature_matrix = features_sframe.to_numpy()\n",
    "    \n",
    "    # assign the column of data_sframe associated with the output to the SArray output_sarray\n",
    "    output_sarray = data_sframe[output]\n",
    "\n",
    "    # the following will convert the SArray into a numpy array by first converting it to a list\n",
    "    output_array = output_sarray.to_numpy()\n",
    "    return(feature_matrix, output_array)"
   ]
  },
  {
   "cell_type": "markdown",
   "metadata": {},
   "source": [
    "Also, copy and paste the `predict_output()` function to compute the predictions for an entire matrix of features given the matrix and the weights:"
   ]
  },
  {
   "cell_type": "code",
   "execution_count": 6,
   "metadata": {
    "collapsed": true
   },
   "outputs": [],
   "source": [
    "def predict_output(feature_matrix, weights):\n",
    "    # assume feature_matrix is a numpy matrix containing the features as columns \n",
    "    # and weights is a corresponding numpy array\n",
    "    # create the predictions vector by using np.dot()\n",
    "    predictions = np.dot(feature_matrix, weights)\n",
    "    return(predictions)"
   ]
  },
  {
   "cell_type": "markdown",
   "metadata": {},
   "source": [
    "# Normalize features\n",
    "In the house dataset, features vary wildly in their relative magnitude: `sqft_living` is very large overall compared to `bedrooms`, for instance. As a result, weight for `sqft_living` would be much smaller than weight for `bedrooms`. This is problematic because \"small\" weights are dropped first as `l1_penalty` goes up. \n",
    "\n",
    "To give equal considerations for all features, we need to **normalize features** as discussed in the lectures: we divide each feature by its 2-norm so that the transformed feature has norm 1.\n",
    "\n",
    "Let's see how we can do this normalization easily with Numpy: let us first consider a small matrix."
   ]
  },
  {
   "cell_type": "code",
   "execution_count": 7,
   "metadata": {
    "collapsed": false
   },
   "outputs": [
    {
     "name": "stdout",
     "output_type": "stream",
     "text": [
      "[[  3.   5.   8.]\n",
      " [  4.  12.  15.]]\n"
     ]
    }
   ],
   "source": [
    "X = np.array([[3.,5.,8.],[4.,12.,15.]])\n",
    "print X"
   ]
  },
  {
   "cell_type": "markdown",
   "metadata": {},
   "source": [
    "Numpy provides a shorthand for computing 2-norms of each column:"
   ]
  },
  {
   "cell_type": "code",
   "execution_count": 8,
   "metadata": {
    "collapsed": false
   },
   "outputs": [
    {
     "name": "stdout",
     "output_type": "stream",
     "text": [
      "[  5.  13.  17.]\n"
     ]
    }
   ],
   "source": [
    "norms = np.linalg.norm(X, axis=0) # gives [norm(X[:,0]), norm(X[:,1]), norm(X[:,2])]\n",
    "print norms"
   ]
  },
  {
   "cell_type": "markdown",
   "metadata": {},
   "source": [
    "To normalize, apply element-wise division:"
   ]
  },
  {
   "cell_type": "code",
   "execution_count": 10,
   "metadata": {
    "collapsed": false
   },
   "outputs": [
    {
     "name": "stdout",
     "output_type": "stream",
     "text": [
      "[[ 0.6         0.38461538  0.47058824]\n",
      " [ 0.8         0.92307692  0.88235294]]\n"
     ]
    }
   ],
   "source": [
    "print X / norms # gives [X[:,0]/norm(X[:,0]), X[:,1]/norm(X[:,1]), X[:,2]/norm(X[:,2])]"
   ]
  },
  {
   "cell_type": "code",
   "execution_count": 12,
   "metadata": {
    "collapsed": false
   },
   "outputs": [
    {
     "name": "stdout",
     "output_type": "stream",
     "text": [
      "[ 1.  1.  1.]\n"
     ]
    }
   ],
   "source": [
    "print(np.linalg.norm(X/norms, axis=0))"
   ]
  },
  {
   "cell_type": "markdown",
   "metadata": {},
   "source": [
    "Using the shorthand we just covered, write a short function called `normalize_features(feature_matrix)`, which normalizes columns of a given feature matrix. The function should return a pair `(normalized_features, norms)`, where the second item contains the norms of original features. As discussed in the lectures, we will use these norms to normalize the test data in the same way as we normalized the training data. "
   ]
  },
  {
   "cell_type": "code",
   "execution_count": 24,
   "metadata": {
    "collapsed": true
   },
   "outputs": [],
   "source": [
    "def normalize_features(feature_matrix):\n",
    "    norms = np.linalg.norm(feature_matrix, axis=0)\n",
    "    normalized_features = feature_matrix / norms\n",
    "    return (normalized_features, norms)"
   ]
  },
  {
   "cell_type": "markdown",
   "metadata": {},
   "source": [
    "To test the function, run the following:"
   ]
  },
  {
   "cell_type": "code",
   "execution_count": 16,
   "metadata": {
    "collapsed": false
   },
   "outputs": [
    {
     "name": "stdout",
     "output_type": "stream",
     "text": [
      "[[ 0.6  0.6  0.6]\n",
      " [ 0.8  0.8  0.8]]\n",
      "[  5.  10.  15.]\n"
     ]
    }
   ],
   "source": [
    "features, norms = normalize_features(np.array([[3.,6.,9.],[4.,8.,12.]]))\n",
    "print features\n",
    "# should print\n",
    "# [[ 0.6  0.6  0.6]\n",
    "#  [ 0.8  0.8  0.8]]\n",
    "print norms\n",
    "# should print\n",
    "# [5.  10.  15.]"
   ]
  },
  {
   "cell_type": "markdown",
   "metadata": {},
   "source": [
    "# Implementing Coordinate Descent with normalized features"
   ]
  },
  {
   "cell_type": "markdown",
   "metadata": {},
   "source": [
    "We seek to obtain a sparse set of weights by minimizing the LASSO cost function\n",
    "```\n",
    "SUM[ (prediction - output)^2 ] + lambda*( |w[1]| + ... + |w[k]|).\n",
    "```\n",
    "(By convention, we do not include `w[0]` in the L1 penalty term. We never want to push the intercept to zero.)\n",
    "\n",
    "The absolute value sign makes the cost function non-differentiable, so simple gradient descent is not viable (you would need to implement a method called subgradient descent). Instead, we will use **coordinate descent**: at each iteration, we will fix all weights but weight `i` and find the value of weight `i` that minimizes the objective. That is, we look for\n",
    "```\n",
    "argmin_{w[i]} [ SUM[ (prediction - output)^2 ] + lambda*( |w[1]| + ... + |w[k]|) ]\n",
    "```\n",
    "where all weights other than `w[i]` are held to be constant. We will optimize one `w[i]` at a time, circling through the weights multiple times.  \n",
    "  1. Pick a coordinate `i`\n",
    "  2. Compute `w[i]` that minimizes the cost function `SUM[ (prediction - output)^2 ] + lambda*( |w[1]| + ... + |w[k]|)`\n",
    "  3. Repeat Steps 1 and 2 for all coordinates, multiple times"
   ]
  },
  {
   "cell_type": "markdown",
   "metadata": {},
   "source": [
    "For this notebook, we use **cyclical coordinate descent with normalized features**, where we cycle through coordinates 0 to (d-1) in order, and assume the features were normalized as discussed above. The formula for optimizing each coordinate is as follows:\n",
    "```\n",
    "       ┌ (ro[i] + lambda/2)     if ro[i] < -lambda/2\n",
    "w[i] = ├ 0                      if -lambda/2 <= ro[i] <= lambda/2\n",
    "       └ (ro[i] - lambda/2)     if ro[i] > lambda/2\n",
    "```\n",
    "where\n",
    "```\n",
    "ro[i] = SUM[ [feature_i]*(output - prediction + w[i]*[feature_i]) ].\n",
    "```\n",
    "\n",
    "Note that we do not regularize the weight of the constant feature (intercept) `w[0]`, so, for this weight, the update is simply:\n",
    "```\n",
    "w[0] = ro[i]\n",
    "```"
   ]
  },
  {
   "cell_type": "markdown",
   "metadata": {},
   "source": [
    "## Effect of L1 penalty"
   ]
  },
  {
   "cell_type": "markdown",
   "metadata": {},
   "source": [
    "Let us consider a simple model with 2 features:"
   ]
  },
  {
   "cell_type": "code",
   "execution_count": 17,
   "metadata": {
    "collapsed": true
   },
   "outputs": [],
   "source": [
    "simple_features = ['sqft_living', 'bedrooms']\n",
    "my_output = 'price'\n",
    "(simple_feature_matrix, output) = get_numpy_data(sales, simple_features, my_output)"
   ]
  },
  {
   "cell_type": "markdown",
   "metadata": {},
   "source": [
    "Don't forget to normalize features:"
   ]
  },
  {
   "cell_type": "code",
   "execution_count": 18,
   "metadata": {
    "collapsed": true
   },
   "outputs": [],
   "source": [
    "simple_feature_matrix, norms = normalize_features(simple_feature_matrix)"
   ]
  },
  {
   "cell_type": "markdown",
   "metadata": {},
   "source": [
    "We assign some random set of initial weights and inspect the values of `ro[i]`:"
   ]
  },
  {
   "cell_type": "code",
   "execution_count": 19,
   "metadata": {
    "collapsed": false
   },
   "outputs": [],
   "source": [
    "weights = np.array([1., 4., 1.])"
   ]
  },
  {
   "cell_type": "markdown",
   "metadata": {},
   "source": [
    "Use `predict_output()` to make predictions on this data."
   ]
  },
  {
   "cell_type": "code",
   "execution_count": 20,
   "metadata": {
    "collapsed": false
   },
   "outputs": [],
   "source": [
    "prediction = predict_output(simple_feature_matrix, weights)"
   ]
  },
  {
   "cell_type": "markdown",
   "metadata": {},
   "source": [
    "Compute the values of `ro[i]` for each feature in this simple model, using the formula given above, using the formula:\n",
    "```\n",
    "ro[i] = SUM[ [feature_i]*(output - prediction + w[i]*[feature_i]) ]\n",
    "```\n",
    "\n",
    "*Hint: You can get a Numpy vector for feature_i using:*\n",
    "```\n",
    "simple_feature_matrix[:,i]\n",
    "```"
   ]
  },
  {
   "cell_type": "code",
   "execution_count": 27,
   "metadata": {
    "collapsed": true
   },
   "outputs": [],
   "source": [
    "def compute_ro(normalized_features, output, weights, i):\n",
    "    prediction = predict_output(normalized_features, weights)\n",
    "    errors = output - prediction\n",
    "    feature_i = normalized_features[:,i]\n",
    "    rho_i = feature_i.dot(errors + weights[i]*feature_i)\n",
    "    return rho_i"
   ]
  },
  {
   "cell_type": "code",
   "execution_count": 40,
   "metadata": {
    "collapsed": false
   },
   "outputs": [
    {
     "data": {
      "text/plain": [
       "[79400300.034929201, 87939470.772991076, 80966698.675965667]"
      ]
     },
     "execution_count": 40,
     "metadata": {},
     "output_type": "execute_result"
    }
   ],
   "source": [
    "rhos = []\n",
    "for i in range(3):\n",
    "    rho_i = compute_ro(normalized_features, output, weights, i)\n",
    "    rhos.append(rho_i)\n",
    "rhos"
   ]
  },
  {
   "cell_type": "markdown",
   "metadata": {},
   "source": [
    "***QUIZ QUESTION***\n",
    "\n",
    "Recall that, whenever `ro[i]` falls between `-l1_penalty/2` and `l1_penalty/2`, the corresponding weight `w[i]` is sent to zero. Now suppose we were to take one step of coordinate descent on either feature 1 or feature 2. What range of values of `l1_penalty` **would not** set `w[1]` zero, but **would** set `w[2]` to zero, if we were to take a step in that coordinate? "
   ]
  },
  {
   "cell_type": "markdown",
   "metadata": {
    "collapsed": false
   },
   "source": [
    "Recall that we set $w_j = 0$ iff $|\\rho_j| \\leq \\lambda/2$.\n",
    "\n",
    "I.e. iff\n",
    "$$ \\lambda \\geq 2|\\rho_j| $$\n",
    "\n",
    "In the case that $\\rho_j > 0$ (our cases) this becomes:\n",
    "\n",
    "$$\\lambda \\geq 2\\rho_j $$\n",
    "\n",
    "In our case if $\\rho_1 = 87939470.772991076$ and $\\rho_2 = 80966698.67596566$ which means...\n",
    "\n"
   ]
  },
  {
   "cell_type": "code",
   "execution_count": 32,
   "metadata": {
    "collapsed": false
   },
   "outputs": [
    {
     "name": "stdout",
     "output_type": "stream",
     "text": [
      "161933397.352\n",
      "175878941.546\n"
     ]
    }
   ],
   "source": [
    "Q5_1_lowerbound = 2*80966698.675965667\n",
    "Q5_1_upperbound = 2*87939470.772991076\n",
    "print (Q5_1_lowerbound)\n",
    "print(Q5_1_upperbound)"
   ]
  },
  {
   "cell_type": "markdown",
   "metadata": {},
   "source": [
    "...that we satisfy the condition for \n",
    "\n",
    "$$ 161933397.352 \\leq \\lambda < 175878941.546 $$"
   ]
  },
  {
   "cell_type": "markdown",
   "metadata": {},
   "source": [
    "***QUIZ QUESTION***\n",
    "\n",
    "What range of values of `l1_penalty` would set **both** `w[1]` and `w[2]` to zero, if we were to take a step in that coordinate? "
   ]
  },
  {
   "cell_type": "code",
   "execution_count": 33,
   "metadata": {
    "collapsed": false
   },
   "outputs": [
    {
     "data": {
      "text/plain": [
       "175878941.54598215"
      ]
     },
     "execution_count": 33,
     "metadata": {},
     "output_type": "execute_result"
    }
   ],
   "source": [
    "Q5_2_lowerbound = Q5_1_upperbound\n",
    "Q5_2_lowerbound"
   ]
  },
  {
   "cell_type": "markdown",
   "metadata": {},
   "source": [
    "So we can say that `ro[i]` quantifies the significance of the i-th feature: the larger `ro[i]` is, the more likely it is for the i-th feature to be retained."
   ]
  },
  {
   "cell_type": "markdown",
   "metadata": {},
   "source": [
    "## Single Coordinate Descent Step"
   ]
  },
  {
   "cell_type": "markdown",
   "metadata": {},
   "source": [
    "Using the formula above, implement coordinate descent that minimizes the cost function over a single feature i. Note that the intercept (weight 0) is not regularized. The function should accept feature matrix, output, current weights, l1 penalty, and index of feature to optimize over. The function should return new weight for feature i."
   ]
  },
  {
   "cell_type": "code",
   "execution_count": 57,
   "metadata": {
    "collapsed": true
   },
   "outputs": [],
   "source": [
    "def lasso_coordinate_descent_step(i, feature_matrix, output, weights,\n",
    "                                  l1_penalty):\n",
    "    \"\"\"\n",
    "    Note: feature_matrix should be normalized.\n",
    "    \"\"\"\n",
    "    # compute prediction\n",
    "    prediction = predict_output(feature_matrix, weights)\n",
    "    # compute ro[i] = SUM[ [feature_i]*(output - prediction + weight[i]*[feature_i]) ]\n",
    "    ro_i = compute_ro(feature_matrix, output, weights, i)\n",
    "\n",
    "    if i == 0: # intercept -- do not regularize\n",
    "        new_weight_i = ro_i \n",
    "    elif ro_i < -l1_penalty/2.:\n",
    "        new_weight_i = ro_i + l1_penalty/2\n",
    "    elif ro_i > l1_penalty/2.:\n",
    "        new_weight_i = ro_i - l1_penalty/2\n",
    "    else:\n",
    "        new_weight_i = 0.\n",
    "    \n",
    "    return new_weight_i"
   ]
  },
  {
   "cell_type": "markdown",
   "metadata": {},
   "source": [
    "To test the function, run the following cell:"
   ]
  },
  {
   "cell_type": "code",
   "execution_count": 49,
   "metadata": {
    "collapsed": false
   },
   "outputs": [
    {
     "name": "stdout",
     "output_type": "stream",
     "text": [
      "[[ 0.83205029  0.31622777]\n",
      " [ 0.5547002   0.9486833 ]]\n",
      "(array([[ 0.83205029,  0.31622777],\n",
      "       [ 0.5547002 ,  0.9486833 ]]), array([ 1.,  1.]))\n",
      "l1_penalty = 0.100000\n",
      "0.425558846691\n"
     ]
    }
   ],
   "source": [
    "# should print 0.425558846691\n",
    "import math\n",
    "features = np.array([[3./math.sqrt(13),1./math.sqrt(10)],\n",
    "                                                 [2./math.sqrt(13),3./math.sqrt(10)]])\n",
    "print(features)\n",
    "print(normalize_features(features))\n",
    "print lasso_coordinate_descent_step(1, features, \n",
    "                                        np.array([1., 1.]), \n",
    "                                        np.array([1., 4.]), 0.1)"
   ]
  },
  {
   "cell_type": "markdown",
   "metadata": {
    "collapsed": true
   },
   "source": [
    "## Cyclical coordinate descent "
   ]
  },
  {
   "cell_type": "markdown",
   "metadata": {},
   "source": [
    "Now that we have a function that optimizes the cost function over a single coordinate, let us implement cyclical coordinate descent where we optimize coordinates 0, 1, ..., (d-1) in order and repeat.\n",
    "\n",
    "When do we know to stop? Each time we scan all the coordinates (features) once, we measure the change in weight for each coordinate. If no coordinate changes by more than a specified threshold, we stop."
   ]
  },
  {
   "cell_type": "markdown",
   "metadata": {},
   "source": [
    "For each iteration:\n",
    "1. As you loop over features in order and perform coordinate descent, measure how much each coordinate changes.\n",
    "2. After the loop, if the maximum change across all coordinates is falls below the tolerance, stop. Otherwise, go back to step 1.\n",
    "\n",
    "Return weights\n",
    "\n",
    "**IMPORTANT: when computing a new weight for coordinate i, make sure to incorporate the new weights for coordinates 0, 1, ..., i-1. One good way is to update your weights variable in-place. See following pseudocode for illustration.**\n",
    "```\n",
    "for i in range(len(weights)):\n",
    "    old_weights_i = weights[i] # remember old value of weight[i], as it will be overwritten\n",
    "    # the following line uses new values for weight[0], weight[1], ..., weight[i-1]\n",
    "    #     and old values for weight[i], ..., weight[d-1]\n",
    "    weights[i] = lasso_coordinate_descent_step(i, feature_matrix, output, weights, l1_penalty)\n",
    "    \n",
    "    # use old_weights_i to compute change in coordinate\n",
    "    ...\n",
    "```"
   ]
  },
  {
   "cell_type": "code",
   "execution_count": 63,
   "metadata": {
    "collapsed": false
   },
   "outputs": [],
   "source": [
    "def lasso_cyclical_coordinate_descent(feature_matrix, output, initial_weights, l1_penalty, \n",
    "                                      tolerance):\n",
    "    max_weights_change = float('inf')\n",
    "    weights = initial_weights\n",
    "    iteration = 1\n",
    "    while max_weights_change > tolerance:\n",
    "        max_weights_change = 0.0\n",
    "        for i in range(len(weights)):\n",
    "            old_weights_i = weights[i]\n",
    "            weights[i] = lasso_coordinate_descent_step(i, feature_matrix, output, weights, l1_penalty)\n",
    "            max_weights_change = max(max_weights_change, np.abs(weights[i] - old_weights_i))\n",
    "        print(\"step %d. Max weight change: %f\" % (iteration, max_weights_change))\n",
    "        iteration += 1\n",
    "    return weights"
   ]
  },
  {
   "cell_type": "code",
   "execution_count": 64,
   "metadata": {
    "collapsed": false
   },
   "outputs": [
    {
     "data": {
      "text/plain": [
       "4.2999999999999998"
      ]
     },
     "execution_count": 64,
     "metadata": {},
     "output_type": "execute_result"
    }
   ],
   "source": [
    "5 < float('inf')\n",
    "np.abs(-4.3)"
   ]
  },
  {
   "cell_type": "markdown",
   "metadata": {},
   "source": [
    "Using the following parameters, learn the weights on the sales dataset. "
   ]
  },
  {
   "cell_type": "code",
   "execution_count": 65,
   "metadata": {
    "collapsed": false
   },
   "outputs": [],
   "source": [
    "simple_features = ['sqft_living', 'bedrooms']\n",
    "my_output = 'price'\n",
    "initial_weights = np.zeros(3)\n",
    "l1_penalty = 1e7\n",
    "tolerance = 1.0"
   ]
  },
  {
   "cell_type": "markdown",
   "metadata": {},
   "source": [
    "First create a normalized version of the feature matrix, `normalized_simple_feature_matrix`"
   ]
  },
  {
   "cell_type": "code",
   "execution_count": 66,
   "metadata": {
    "collapsed": true
   },
   "outputs": [],
   "source": [
    "(simple_feature_matrix, output) = get_numpy_data(sales, simple_features, my_output)\n",
    "(normalized_simple_feature_matrix, simple_norms) = normalize_features(simple_feature_matrix) # normalize features"
   ]
  },
  {
   "cell_type": "markdown",
   "metadata": {},
   "source": [
    "Then, run your implementation of LASSO coordinate descent:"
   ]
  },
  {
   "cell_type": "code",
   "execution_count": 67,
   "metadata": {
    "collapsed": false
   },
   "outputs": [
    {
     "name": "stdout",
     "output_type": "stream",
     "text": [
      "step 1. Max weight change: 79400304.658051\n",
      "step 2. Max weight change: 9138168.366497\n",
      "step 3. Max weight change: 8194809.409370\n",
      "step 4. Max weight change: 6598905.038273\n",
      "step 5. Max weight change: 5522173.194295\n",
      "step 6. Max weight change: 4621129.810313\n",
      "step 7. Max weight change: 3867108.106248\n",
      "step 8. Max weight change: 3236118.810607\n",
      "step 9. Max weight change: 2708086.939551\n",
      "step 10. Max weight change: 2266213.109399\n",
      "step 11. Max weight change: 1896439.062647\n",
      "step 12. Max weight change: 1587000.403192\n",
      "step 13. Max weight change: 1328052.310954\n",
      "step 14. Max weight change: 1111356.328002\n",
      "step 15. Max weight change: 930018.251241\n",
      "step 16. Max weight change: 778268.792690\n",
      "step 17. Max weight change: 651280.029038\n",
      "step 18. Max weight change: 545011.800818\n",
      "step 19. Max weight change: 456083.174344\n",
      "step 20. Max weight change: 381664.876995\n",
      "step 21. Max weight change: 319389.283634\n",
      "step 22. Max weight change: 267275.090397\n",
      "step 23. Max weight change: 223664.279321\n",
      "step 24. Max weight change: 187169.368346\n",
      "step 25. Max weight change: 156629.268444\n",
      "step 26. Max weight change: 131072.343461\n",
      "step 27. Max weight change: 109685.497423\n",
      "step 28. Max weight change: 91788.305812\n",
      "step 29. Max weight change: 76811.367789\n",
      "step 30. Max weight change: 64278.190664\n",
      "step 31. Max weight change: 53790.030225\n",
      "step 32. Max weight change: 45013.204662\n",
      "step 33. Max weight change: 37668.478442\n",
      "step 34. Max weight change: 31522.178409\n",
      "step 35. Max weight change: 26378.759450\n",
      "step 36. Max weight change: 22074.583205\n",
      "step 37. Max weight change: 18472.711904\n",
      "step 38. Max weight change: 15458.551670\n",
      "step 39. Max weight change: 12936.206713\n",
      "step 40. Max weight change: 10825.428390\n",
      "step 41. Max weight change: 9059.062091\n",
      "step 42. Max weight change: 7580.910705\n",
      "step 43. Max weight change: 6343.946706\n",
      "step 44. Max weight change: 5308.815969\n",
      "step 45. Max weight change: 4442.585712\n",
      "step 46. Max weight change: 3717.696738\n",
      "step 47. Max weight change: 3111.086635\n",
      "step 48. Max weight change: 2603.456046\n",
      "step 49. Max weight change: 2178.654657\n",
      "step 50. Max weight change: 1823.167370\n",
      "step 51. Max weight change: 1525.684325\n",
      "step 52. Max weight change: 1276.741071\n",
      "step 53. Max weight change: 1068.417453\n",
      "step 54. Max weight change: 894.085638\n",
      "step 55. Max weight change: 748.199241\n",
      "step 56. Max weight change: 626.116874\n",
      "step 57. Max weight change: 523.954474\n",
      "step 58. Max weight change: 438.461735\n",
      "step 59. Max weight change: 366.918697\n",
      "step 60. Max weight change: 307.049212\n",
      "step 61. Max weight change: 256.948527\n",
      "step 62. Max weight change: 215.022683\n",
      "step 63. Max weight change: 179.937806\n",
      "step 64. Max weight change: 150.577668\n",
      "step 65. Max weight change: 126.008172\n",
      "step 66. Max weight change: 105.447638\n",
      "step 67. Max weight change: 88.241931\n",
      "step 68. Max weight change: 73.843648\n",
      "step 69. Max weight change: 61.794709\n",
      "step 70. Max weight change: 51.711774\n",
      "step 71. Max weight change: 43.274054\n",
      "step 72. Max weight change: 36.213102\n",
      "step 73. Max weight change: 30.304273\n",
      "step 74. Max weight change: 25.359578\n",
      "step 75. Max weight change: 21.221699\n",
      "step 76. Max weight change: 17.758992\n",
      "step 77. Max weight change: 14.861288\n",
      "step 78. Max weight change: 12.436397\n",
      "step 79. Max weight change: 10.407172\n",
      "step 80. Max weight change: 8.709052\n",
      "step 81. Max weight change: 7.288011\n",
      "step 82. Max weight change: 6.098839\n",
      "step 83. Max weight change: 5.103702\n",
      "step 84. Max weight change: 4.270940\n",
      "step 85. Max weight change: 3.574058\n",
      "step 86. Max weight change: 2.990885\n",
      "step 87. Max weight change: 2.502868\n",
      "step 88. Max weight change: 2.094479\n",
      "step 89. Max weight change: 1.752727\n",
      "step 90. Max weight change: 1.466737\n",
      "step 91. Max weight change: 1.227412\n",
      "step 92. Max weight change: 1.027138\n",
      "step 93. Max weight change: 0.859541\n"
     ]
    }
   ],
   "source": [
    "weights = lasso_cyclical_coordinate_descent(normalized_simple_feature_matrix, output,\n",
    "                                            initial_weights, l1_penalty, tolerance)"
   ]
  },
  {
   "cell_type": "markdown",
   "metadata": {},
   "source": [
    "***QUIZ QUESTIONS***\n",
    "1. What is the RSS of the learned model on the normalized dataset?\n",
    "2. Which features had weight zero at convergence?"
   ]
  },
  {
   "cell_type": "code",
   "execution_count": 71,
   "metadata": {
    "collapsed": false
   },
   "outputs": [
    {
     "data": {
      "text/plain": [
       "array([ 21624998.36636291,  63157246.78545421,         0.        ])"
      ]
     },
     "execution_count": 71,
     "metadata": {},
     "output_type": "execute_result"
    }
   ],
   "source": [
    "y_predict = predict_output(normalized_simple_feature_matrix, weights)\n",
    "errors = output - y_predict\n",
    "RSS = errors.dot(errors)\n",
    "Q5_3_RSS = RSS\n",
    "Q5_3_weights = weights\n",
    "Q5_3_nonzeros = [ \"constant\", \"sqft_living\"]\n",
    "Q5_3_weights"
   ]
  },
  {
   "cell_type": "markdown",
   "metadata": {},
   "source": [
    "# Evaluating LASSO fit with more features"
   ]
  },
  {
   "cell_type": "markdown",
   "metadata": {},
   "source": [
    "Let us split the sales dataset into training and test sets."
   ]
  },
  {
   "cell_type": "code",
   "execution_count": 72,
   "metadata": {
    "collapsed": true
   },
   "outputs": [],
   "source": [
    "train_data,test_data = sales.random_split(.8,seed=0)"
   ]
  },
  {
   "cell_type": "markdown",
   "metadata": {},
   "source": [
    "Let us consider the following set of features."
   ]
  },
  {
   "cell_type": "code",
   "execution_count": 73,
   "metadata": {
    "collapsed": true
   },
   "outputs": [],
   "source": [
    "all_features = ['bedrooms',\n",
    "                'bathrooms',\n",
    "                'sqft_living',\n",
    "                'sqft_lot',\n",
    "                'floors',\n",
    "                'waterfront', \n",
    "                'view', \n",
    "                'condition', \n",
    "                'grade',\n",
    "                'sqft_above',\n",
    "                'sqft_basement',\n",
    "                'yr_built', \n",
    "                'yr_renovated']"
   ]
  },
  {
   "cell_type": "markdown",
   "metadata": {},
   "source": [
    "First, create a normalized feature matrix from the TRAINING data with these features.  (Make you store the norms for the normalization, since we'll use them later)"
   ]
  },
  {
   "cell_type": "code",
   "execution_count": 75,
   "metadata": {
    "collapsed": true
   },
   "outputs": [],
   "source": [
    "(train_feature_matrix, train_output) = get_numpy_data(train_data, all_features, my_output)\n",
    "(normalized_all_feature_matrix, norm_training) = normalize_features(train_feature_matrix)"
   ]
  },
  {
   "cell_type": "code",
   "execution_count": 79,
   "metadata": {
    "collapsed": false
   },
   "outputs": [
    {
     "data": {
      "text/plain": [
       "array([  1.31848398e+02,   4.60040216e+02,   2.96850552e+02,\n",
       "         2.99962419e+05,   5.81709718e+06,   2.04107815e+02,\n",
       "         1.15325626e+01,   1.05933942e+02,   4.57793622e+02,\n",
       "         1.02101959e+03,   2.59726472e+05,   7.01224951e+04,\n",
       "         2.59922094e+05,   5.36953839e+04])"
      ]
     },
     "execution_count": 79,
     "metadata": {},
     "output_type": "execute_result"
    }
   ],
   "source": [
    "norm_training"
   ]
  },
  {
   "cell_type": "code",
   "execution_count": 84,
   "metadata": {
    "collapsed": false
   },
   "outputs": [
    {
     "data": {
      "text/plain": [
       "131.84839779079607"
      ]
     },
     "execution_count": 84,
     "metadata": {},
     "output_type": "execute_result"
    }
   ],
   "source": [
    "c = train_feature_matrix[:,0]\n",
    "np.sqrt(len(c))"
   ]
  },
  {
   "cell_type": "markdown",
   "metadata": {},
   "source": [
    "First, learn the weights with `l1_penalty=1e7`, on the training data. Initialize weights to all zeros, and set the `tolerance=1`.  Call resulting weights `weights1e7`, you will need them later."
   ]
  },
  {
   "cell_type": "code",
   "execution_count": 86,
   "metadata": {
    "collapsed": false
   },
   "outputs": [
    {
     "name": "stdout",
     "output_type": "stream",
     "text": [
      "step 1. Max weight change: 71114625.752809\n",
      "step 2. Max weight change: 5024356.368690\n",
      "step 3. Max weight change: 5012324.913953\n",
      "step 4. Max weight change: 5000676.420862\n",
      "step 5. Max weight change: 4991243.173140\n",
      "step 6. Max weight change: 4984361.343354\n",
      "step 7. Max weight change: 4979504.929205\n",
      "step 8. Max weight change: 4973806.565255\n",
      "step 9. Max weight change: 2879222.999384\n",
      "step 10. Max weight change: 2706150.766220\n",
      "step 11. Max weight change: 2532295.648642\n",
      "step 12. Max weight change: 2368316.577822\n",
      "step 13. Max weight change: 2213124.350666\n",
      "step 14. Max weight change: 1552443.600131\n",
      "step 15. Max weight change: 507838.033159\n",
      "step 16. Max weight change: 438814.370591\n",
      "step 17. Max weight change: 371479.622608\n",
      "step 18. Max weight change: 313415.105581\n",
      "step 19. Max weight change: 264244.832139\n",
      "step 20. Max weight change: 222753.860800\n",
      "step 21. Max weight change: 187770.667306\n",
      "step 22. Max weight change: 158280.093357\n",
      "step 23. Max weight change: 133420.901606\n",
      "step 24. Max weight change: 112465.988296\n",
      "step 25. Max weight change: 94802.213452\n",
      "step 26. Max weight change: 79912.687451\n",
      "step 27. Max weight change: 67361.692620\n",
      "step 28. Max weight change: 56781.942492\n",
      "step 29. Max weight change: 47863.835752\n",
      "step 30. Max weight change: 40346.396619\n",
      "step 31. Max weight change: 34009.637852\n",
      "step 32. Max weight change: 28668.123146\n",
      "step 33. Max weight change: 24165.540613\n",
      "step 34. Max weight change: 20370.128527\n",
      "step 35. Max weight change: 17170.819509\n",
      "step 36. Max weight change: 14473.990295\n",
      "step 37. Max weight change: 12200.721984\n",
      "step 38. Max weight change: 10284.490586\n",
      "step 39. Max weight change: 8669.220292\n",
      "step 40. Max weight change: 7307.642499\n",
      "step 41. Max weight change: 6159.912551\n",
      "step 42. Max weight change: 5192.443752\n",
      "step 43. Max weight change: 4376.924493\n",
      "step 44. Max weight change: 3689.489754\n",
      "step 45. Max weight change: 3110.022725\n",
      "step 46. Max weight change: 2621.566124\n",
      "step 47. Max weight change: 2209.825956\n",
      "step 48. Max weight change: 1862.753226\n",
      "step 49. Max weight change: 1570.191342\n",
      "step 50. Max weight change: 1323.578891\n",
      "step 51. Max weight change: 1115.699109\n",
      "step 52. Max weight change: 940.468687\n",
      "step 53. Max weight change: 792.759754\n",
      "step 54. Max weight change: 668.249816\n",
      "step 55. Max weight change: 563.295267\n",
      "step 56. Max weight change: 474.824758\n",
      "step 57. Max weight change: 400.249326\n",
      "step 58. Max weight change: 337.386626\n",
      "step 59. Max weight change: 284.397070\n",
      "step 60. Max weight change: 239.729992\n",
      "step 61. Max weight change: 202.078275\n",
      "step 62. Max weight change: 170.340093\n",
      "step 63. Max weight change: 143.586673\n",
      "step 64. Max weight change: 121.035115\n",
      "step 65. Max weight change: 102.025479\n",
      "step 66. Max weight change: 86.001474\n",
      "step 67. Max weight change: 72.494181\n",
      "step 68. Max weight change: 61.108328\n",
      "step 69. Max weight change: 51.510724\n",
      "step 70. Max weight change: 43.420509\n",
      "step 71. Max weight change: 36.600934\n",
      "step 72. Max weight change: 30.852433\n",
      "step 73. Max weight change: 26.006785\n",
      "step 74. Max weight change: 21.922189\n",
      "step 75. Max weight change: 18.479116\n",
      "step 76. Max weight change: 15.576807\n",
      "step 77. Max weight change: 13.130331\n",
      "step 78. Max weight change: 11.068097\n",
      "step 79. Max weight change: 9.329754\n",
      "step 80. Max weight change: 7.864434\n",
      "step 81. Max weight change: 6.629255\n",
      "step 82. Max weight change: 5.588072\n",
      "step 83. Max weight change: 4.710415\n",
      "step 84. Max weight change: 3.970603\n",
      "step 85. Max weight change: 3.346985\n",
      "step 86. Max weight change: 2.821311\n",
      "step 87. Max weight change: 2.378199\n",
      "step 88. Max weight change: 2.004682\n",
      "step 89. Max weight change: 1.689829\n",
      "step 90. Max weight change: 1.424426\n",
      "step 91. Max weight change: 1.200708\n",
      "step 92. Max weight change: 1.012126\n",
      "step 93. Max weight change: 0.853162\n"
     ]
    }
   ],
   "source": [
    "weights1e7 = lasso_cyclical_coordinate_descent(normalized_all_feature_matrix, train_output, np.zeros(14), \n",
    "                                              1e7, 1.0)"
   ]
  },
  {
   "cell_type": "markdown",
   "metadata": {},
   "source": [
    "***QUIZ QUESTION***\n",
    "\n",
    "What features had non-zero weight in this case?"
   ]
  },
  {
   "cell_type": "code",
   "execution_count": 91,
   "metadata": {
    "collapsed": false
   },
   "outputs": [
    {
     "name": "stdout",
     "output_type": "stream",
     "text": [
      "3\n",
      "6\n",
      "7\n"
     ]
    },
    {
     "data": {
      "text/plain": [
       "['constant', 'sqft_living', 'waterfront', 'view']"
      ]
     },
     "execution_count": 91,
     "metadata": {},
     "output_type": "execute_result"
    }
   ],
   "source": [
    "weights1e7\n",
    "Q5_4_nonzeros = [ \"constant\" ]\n",
    "for i in range(1,14):\n",
    "    if weights1e7[i] != 0.0:\n",
    "        print i\n",
    "        Q5_4_nonzeros.append(all_features[i-1])\n",
    "Q5_4_nonzeros"
   ]
  },
  {
   "cell_type": "markdown",
   "metadata": {
    "collapsed": true
   },
   "source": [
    "Next, learn the weights with `l1_penalty=1e8`, on the training data. Initialize weights to all zeros, and set the `tolerance=1`.  Call resulting weights `weights1e8`, you will need them later."
   ]
  },
  {
   "cell_type": "code",
   "execution_count": 92,
   "metadata": {
    "collapsed": false
   },
   "outputs": [
    {
     "name": "stdout",
     "output_type": "stream",
     "text": [
      "step 1. Max weight change: 71114625.752809\n",
      "step 2. Max weight change: 0.000000\n"
     ]
    }
   ],
   "source": [
    "weights1e8 = lasso_cyclical_coordinate_descent(normalized_all_feature_matrix, train_output, np.zeros(14), \n",
    "                                              1e8, 1.0)"
   ]
  },
  {
   "cell_type": "code",
   "execution_count": 93,
   "metadata": {
    "collapsed": false
   },
   "outputs": [
    {
     "data": {
      "text/plain": [
       "['constant']"
      ]
     },
     "execution_count": 93,
     "metadata": {},
     "output_type": "execute_result"
    }
   ],
   "source": [
    "Q5_5_nonzeros = [ \"constant\" ]\n",
    "for i in range(1,14):\n",
    "    if weights1e8[i] != 0.0:\n",
    "        print i\n",
    "        Q5_5_nonzeros.append(all_features[i-1])\n",
    "Q5_5_nonzeros"
   ]
  },
  {
   "cell_type": "markdown",
   "metadata": {},
   "source": [
    "***QUIZ QUESTION***\n",
    "\n",
    "What features had non-zero weight in this case?"
   ]
  },
  {
   "cell_type": "markdown",
   "metadata": {},
   "source": [
    "Finally, learn the weights with `l1_penalty=1e4`, on the training data. Initialize weights to all zeros, and set the `tolerance=5e5`.  Call resulting weights `weights1e4`, you will need them later.  (This case will take quite a bit longer to converge than the others above.)"
   ]
  },
  {
   "cell_type": "code",
   "execution_count": 94,
   "metadata": {
    "collapsed": false
   },
   "outputs": [
    {
     "name": "stdout",
     "output_type": "stream",
     "text": [
      "step 1. Max weight change: 71114625.752809\n",
      "step 2. Max weight change: 8464015.947382\n",
      "step 3. Max weight change: 6818451.358693\n",
      "step 4. Max weight change: 5570165.219010\n",
      "step 5. Max weight change: 4559838.467594\n",
      "step 6. Max weight change: 3732056.697149\n",
      "step 7. Max weight change: 3053211.613526\n",
      "step 8. Max weight change: 2497517.435575\n",
      "step 9. Max weight change: 2043868.973246\n",
      "step 10. Max weight change: 1674717.709057\n",
      "step 11. Max weight change: 1375420.756922\n",
      "step 12. Max weight change: 1296621.814296\n",
      "step 13. Max weight change: 1257340.936098\n",
      "step 14. Max weight change: 1228271.248190\n",
      "step 15. Max weight change: 1206854.364715\n",
      "step 16. Max weight change: 1191059.405980\n",
      "step 17. Max weight change: 1179030.770175\n",
      "step 18. Max weight change: 1169777.433448\n",
      "step 19. Max weight change: 1162340.675886\n",
      "step 20. Max weight change: 1155980.529008\n",
      "step 21. Max weight change: 1150139.679659\n",
      "step 22. Max weight change: 1144406.327518\n",
      "step 23. Max weight change: 1138483.918053\n",
      "step 24. Max weight change: 1132166.571691\n",
      "step 25. Max weight change: 1125319.167779\n",
      "step 26. Max weight change: 1117861.248876\n",
      "step 27. Max weight change: 1109754.062822\n",
      "step 28. Max weight change: 1100990.179067\n",
      "step 29. Max weight change: 1091585.212443\n",
      "step 30. Max weight change: 1081571.267614\n",
      "step 31. Max weight change: 1070991.784053\n",
      "step 32. Max weight change: 1059897.517007\n",
      "step 33. Max weight change: 1048343.436311\n",
      "step 34. Max weight change: 1036386.363603\n",
      "step 35. Max weight change: 1024083.200676\n",
      "step 36. Max weight change: 1011489.628470\n",
      "step 37. Max weight change: 998659.178392\n",
      "step 38. Max weight change: 985642.596017\n",
      "step 39. Max weight change: 972487.432403\n",
      "step 40. Max weight change: 959237.810727\n",
      "step 41. Max weight change: 945934.326266\n",
      "step 42. Max weight change: 932614.046118\n",
      "step 43. Max weight change: 919310.581988\n",
      "step 44. Max weight change: 906054.214956\n",
      "step 45. Max weight change: 892872.055697\n",
      "step 46. Max weight change: 879109.302243\n",
      "step 47. Max weight change: 866038.266742\n",
      "step 48. Max weight change: 853191.449430\n",
      "step 49. Max weight change: 840521.781012\n",
      "step 50. Max weight change: 828028.403962\n",
      "step 51. Max weight change: 815717.920819\n",
      "step 52. Max weight change: 803598.206378\n",
      "step 53. Max weight change: 791676.769693\n",
      "step 54. Max weight change: 779960.222854\n",
      "step 55. Max weight change: 768454.139375\n",
      "step 56. Max weight change: 757163.059160\n",
      "step 57. Max weight change: 746090.546302\n",
      "step 58. Max weight change: 735239.263812\n",
      "step 59. Max weight change: 724611.051693\n",
      "step 60. Max weight change: 714002.910141\n",
      "step 61. Max weight change: 703393.002342\n",
      "step 62. Max weight change: 693038.299304\n",
      "step 63. Max weight change: 682960.589206\n",
      "step 64. Max weight change: 673155.135299\n",
      "step 65. Max weight change: 663513.600594\n",
      "step 66. Max weight change: 654148.681361\n",
      "step 67. Max weight change: 645045.446052\n",
      "step 68. Max weight change: 636191.878813\n",
      "step 69. Max weight change: 627577.229773\n",
      "step 70. Max weight change: 619191.966920\n",
      "step 71. Max weight change: 611027.657019\n",
      "step 72. Max weight change: 603076.796131\n",
      "step 73. Max weight change: 595332.640574\n",
      "step 74. Max weight change: 587789.058274\n",
      "step 75. Max weight change: 580440.404721\n",
      "step 76. Max weight change: 573281.422008\n",
      "step 77. Max weight change: 566307.157817\n",
      "step 78. Max weight change: 559512.901092\n",
      "step 79. Max weight change: 552894.131446\n",
      "step 80. Max weight change: 546446.479774\n",
      "step 81. Max weight change: 540165.697950\n",
      "step 82. Max weight change: 534047.635850\n",
      "step 83. Max weight change: 528088.224232\n",
      "step 84. Max weight change: 522283.462294\n",
      "step 85. Max weight change: 516629.408909\n",
      "step 86. Max weight change: 511122.176757\n",
      "step 87. Max weight change: 505757.928682\n",
      "step 88. Max weight change: 500532.875758\n",
      "step 89. Max weight change: 495443.276635\n"
     ]
    }
   ],
   "source": [
    "weights1e4 = lasso_cyclical_coordinate_descent(normalized_all_feature_matrix, train_output, np.zeros(14), \n",
    "                                              1e4, 5e5)"
   ]
  },
  {
   "cell_type": "markdown",
   "metadata": {},
   "source": [
    "***QUIZ QUESTION***\n",
    "\n",
    "What features had non-zero weight in this case?"
   ]
  },
  {
   "cell_type": "code",
   "execution_count": 95,
   "metadata": {
    "collapsed": false
   },
   "outputs": [
    {
     "name": "stdout",
     "output_type": "stream",
     "text": [
      "1\n",
      "2\n",
      "3\n",
      "4\n",
      "5\n",
      "6\n",
      "7\n",
      "8\n",
      "9\n",
      "10\n",
      "11\n",
      "12\n",
      "13\n"
     ]
    },
    {
     "data": {
      "text/plain": [
       "['constant',\n",
       " 'bedrooms',\n",
       " 'bathrooms',\n",
       " 'sqft_living',\n",
       " 'sqft_lot',\n",
       " 'floors',\n",
       " 'waterfront',\n",
       " 'view',\n",
       " 'condition',\n",
       " 'grade',\n",
       " 'sqft_above',\n",
       " 'sqft_basement',\n",
       " 'yr_built',\n",
       " 'yr_renovated']"
      ]
     },
     "execution_count": 95,
     "metadata": {},
     "output_type": "execute_result"
    }
   ],
   "source": [
    "Q5_6_nonzeros = [ \"constant\" ]\n",
    "for i in range(1,14):\n",
    "    if weights1e4[i] != 0.0:\n",
    "        print i\n",
    "        Q5_6_nonzeros.append(all_features[i-1])\n",
    "Q5_6_nonzeros"
   ]
  },
  {
   "cell_type": "markdown",
   "metadata": {},
   "source": [
    "## Rescaling learned weights"
   ]
  },
  {
   "cell_type": "markdown",
   "metadata": {},
   "source": [
    "Recall that we normalized our feature matrix, before learning the weights.  To use these weights on a test set, we must normalize the test data in the same way.\n",
    "\n",
    "Alternatively, we can rescale the learned weights to include the normalization, so we never have to worry about normalizing the test data: \n",
    "\n",
    "In this case, we must scale the resulting weights so that we can make predictions with *original* features:\n",
    " 1. Store the norms of the original features to a vector called `norms`:\n",
    "```\n",
    "features, norms = normalize_features(features)\n",
    "```\n",
    " 2. Run Lasso on the normalized features and obtain a `weights` vector\n",
    " 3. Compute the weights for the original features by performing element-wise division, i.e.\n",
    "```\n",
    "weights_normalized = weights / norms\n",
    "```\n",
    "Now, we can apply `weights_normalized` to the test data, without normalizing it!"
   ]
  },
  {
   "cell_type": "markdown",
   "metadata": {},
   "source": [
    "Create a normalized version of each of the weights learned above. (`weights1e4`, `weights1e7`, `weights1e8`)."
   ]
  },
  {
   "cell_type": "code",
   "execution_count": 99,
   "metadata": {
    "collapsed": false
   },
   "outputs": [
    {
     "name": "stdout",
     "output_type": "stream",
     "text": [
      "161.317456248\n"
     ]
    }
   ],
   "source": [
    "weights1e4_normalized = weights1e4 / norm_training\n",
    "weights1e7_normalized = weights1e7 / norm_training\n",
    "weights1e8_normalized = weights1e8 / norm_training\n",
    "print weights1e7_normalized[3]"
   ]
  },
  {
   "cell_type": "markdown",
   "metadata": {},
   "source": [
    "To check your results, if you call `normalized_weights1e7` the normalized version of `weights1e7`, then:\n",
    "```\n",
    "print normalized_weights1e7[3]\n",
    "```\n",
    "should return 161.31745624837794."
   ]
  },
  {
   "cell_type": "markdown",
   "metadata": {},
   "source": [
    "## Evaluating each of the learned models on the test data"
   ]
  },
  {
   "cell_type": "markdown",
   "metadata": {},
   "source": [
    "Let's now evaluate the three models on the test data:"
   ]
  },
  {
   "cell_type": "code",
   "execution_count": 100,
   "metadata": {
    "collapsed": true
   },
   "outputs": [],
   "source": [
    "(test_feature_matrix, test_output) = get_numpy_data(test_data, all_features, 'price')"
   ]
  },
  {
   "cell_type": "markdown",
   "metadata": {},
   "source": [
    "Compute the RSS of each of the three normalized weights on the (unnormalized) `test_feature_matrix`:"
   ]
  },
  {
   "cell_type": "code",
   "execution_count": 101,
   "metadata": {
    "collapsed": false
   },
   "outputs": [
    {
     "data": {
      "text/plain": [
       "227781004760225.38"
      ]
     },
     "execution_count": 101,
     "metadata": {},
     "output_type": "execute_result"
    }
   ],
   "source": [
    "y_predict = predict_output(test_feature_matrix, weights1e4_normalized)\n",
    "errors = test_output - y_predict\n",
    "RSS1e4 = errors.dot(errors)\n",
    "RSS1e4"
   ]
  },
  {
   "cell_type": "code",
   "execution_count": 102,
   "metadata": {
    "collapsed": false
   },
   "outputs": [
    {
     "data": {
      "text/plain": [
       "275962079909185.38"
      ]
     },
     "execution_count": 102,
     "metadata": {},
     "output_type": "execute_result"
    }
   ],
   "source": [
    "y_predict = predict_output(test_feature_matrix, weights1e7_normalized)\n",
    "errors = test_output - y_predict\n",
    "RSS1e7 = errors.dot(errors)\n",
    "RSS1e7"
   ]
  },
  {
   "cell_type": "code",
   "execution_count": 103,
   "metadata": {
    "collapsed": false
   },
   "outputs": [
    {
     "data": {
      "text/plain": [
       "537166150034084.88"
      ]
     },
     "execution_count": 103,
     "metadata": {},
     "output_type": "execute_result"
    }
   ],
   "source": [
    "y_predict = predict_output(test_feature_matrix, weights1e8_normalized)\n",
    "errors = test_output - y_predict\n",
    "RSS1e8 = errors.dot(errors)\n",
    "RSS1e8"
   ]
  },
  {
   "cell_type": "markdown",
   "metadata": {},
   "source": [
    "***QUIZ QUESTION***\n",
    "\n",
    "Which model performed best on the test data?"
   ]
  },
  {
   "cell_type": "code",
   "execution_count": 104,
   "metadata": {
    "collapsed": true
   },
   "outputs": [],
   "source": [
    "Q5_7_best_model = \"1e4\""
   ]
  },
  {
   "cell_type": "code",
   "execution_count": 106,
   "metadata": {
    "collapsed": false
   },
   "outputs": [
    {
     "name": "stdout",
     "output_type": "stream",
     "text": [
      "161933397.352\n"
     ]
    }
   ],
   "source": [
    "print(Q5_1_lowerbound)"
   ]
  },
  {
   "cell_type": "code",
   "execution_count": 107,
   "metadata": {
    "collapsed": false
   },
   "outputs": [
    {
     "name": "stdout",
     "output_type": "stream",
     "text": [
      "175878941.546\n"
     ]
    }
   ],
   "source": [
    "print(Q5_1_upperbound)"
   ]
  },
  {
   "cell_type": "code",
   "execution_count": 108,
   "metadata": {
    "collapsed": false
   },
   "outputs": [
    {
     "name": "stdout",
     "output_type": "stream",
     "text": [
      "1.63049248148e+15\n"
     ]
    }
   ],
   "source": [
    "print(Q5_3_RSS)"
   ]
  },
  {
   "cell_type": "code",
   "execution_count": 109,
   "metadata": {
    "collapsed": false
   },
   "outputs": [
    {
     "name": "stdout",
     "output_type": "stream",
     "text": [
      "['constant', 'sqft_living']\n"
     ]
    }
   ],
   "source": [
    "print(Q5_3_nonzeros)"
   ]
  },
  {
   "cell_type": "code",
   "execution_count": 110,
   "metadata": {
    "collapsed": false
   },
   "outputs": [
    {
     "name": "stdout",
     "output_type": "stream",
     "text": [
      "['constant', 'sqft_living', 'waterfront', 'view']\n"
     ]
    }
   ],
   "source": [
    "print(Q5_4_nonzeros)"
   ]
  },
  {
   "cell_type": "code",
   "execution_count": 111,
   "metadata": {
    "collapsed": false
   },
   "outputs": [
    {
     "name": "stdout",
     "output_type": "stream",
     "text": [
      "['constant']\n"
     ]
    }
   ],
   "source": [
    "print(Q5_5_nonzeros)"
   ]
  },
  {
   "cell_type": "code",
   "execution_count": 112,
   "metadata": {
    "collapsed": false
   },
   "outputs": [
    {
     "name": "stdout",
     "output_type": "stream",
     "text": [
      "['constant', 'bedrooms', 'bathrooms', 'sqft_living', 'sqft_lot', 'floors', 'waterfront', 'view', 'condition', 'grade', 'sqft_above', 'sqft_basement', 'yr_built', 'yr_renovated']\n"
     ]
    }
   ],
   "source": [
    "print(Q5_6_nonzeros)"
   ]
  },
  {
   "cell_type": "code",
   "execution_count": 113,
   "metadata": {
    "collapsed": false
   },
   "outputs": [
    {
     "name": "stdout",
     "output_type": "stream",
     "text": [
      "1e4\n"
     ]
    }
   ],
   "source": [
    "print(Q5_7_best_model)"
   ]
  },
  {
   "cell_type": "code",
   "execution_count": null,
   "metadata": {
    "collapsed": true
   },
   "outputs": [],
   "source": []
  }
 ],
 "metadata": {
  "kernelspec": {
   "display_name": "Python 2",
   "language": "python",
   "name": "python2"
  },
  "language_info": {
   "codemirror_mode": {
    "name": "ipython",
    "version": 2
   },
   "file_extension": ".py",
   "mimetype": "text/x-python",
   "name": "python",
   "nbconvert_exporter": "python",
   "pygments_lexer": "ipython2",
   "version": "2.7.10"
  }
 },
 "nbformat": 4,
 "nbformat_minor": 0
}
