{
 "cells": [
  {
   "cell_type": "code",
   "execution_count": 1,
   "metadata": {
    "collapsed": false
   },
   "outputs": [
    {
     "name": "stderr",
     "output_type": "stream",
     "text": [
      "A newer version of GraphLab Create (v2.1) is available! Your current version is v1.8.5.\n",
      "\n",
      "You can use pip to upgrade the graphlab-create package. For more information see https://dato.com/products/create/upgrade.\n"
     ]
    },
    {
     "data": {
      "text/plain": [
       "'9C66-120C-1FD8-6935-9027-3C6A-B213-2817'"
      ]
     },
     "execution_count": 1,
     "metadata": {},
     "output_type": "execute_result"
    }
   ],
   "source": [
    "import graphlab\n",
    "graphlab.product_key.get_product_key()"
   ]
  },
  {
   "cell_type": "code",
   "execution_count": 4,
   "metadata": {
    "collapsed": false
   },
   "outputs": [
    {
     "name": "stdout",
     "output_type": "stream",
     "text": [
      "new_email: zg33@tc.columbia.edu\n",
      "new_license: 26B8-8CDA-4430-DA54-D6FE-8A18-6A6A-B76E\n",
      "old_license: 9C66-120C-1FD8-6935-9027-3C6A-B213-2817\n"
     ]
    }
   ],
   "source": [
    "new_email = 'zg33@tc.columbia.edu'\n",
    "new_license = '26B8-8CDA-4430-DA54-D6FE-8A18-6A6A-B76E'\n",
    "old_license = '9C66-120C-1FD8-6935-9027-3C6A-B213-2817'\n",
    "print(\"\"\"new_email: %s\n",
    "new_license: %s\n",
    "old_license: %s\"\"\" % (new_email, new_license, old_license) )"
   ]
  },
  {
   "cell_type": "code",
   "execution_count": null,
   "metadata": {
    "collapsed": true
   },
   "outputs": [],
   "source": []
  }
 ],
 "metadata": {
  "kernelspec": {
   "display_name": "Python 2",
   "language": "python",
   "name": "python2"
  },
  "language_info": {
   "codemirror_mode": {
    "name": "ipython",
    "version": 2
   },
   "file_extension": ".py",
   "mimetype": "text/x-python",
   "name": "python",
   "nbconvert_exporter": "python",
   "pygments_lexer": "ipython2",
   "version": "2.7.10"
  }
 },
 "nbformat": 4,
 "nbformat_minor": 0
}
